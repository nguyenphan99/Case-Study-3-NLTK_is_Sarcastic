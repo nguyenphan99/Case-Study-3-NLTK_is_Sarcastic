{
 "cells": [
  {
   "cell_type": "code",
   "execution_count": 1,
   "metadata": {},
   "outputs": [
    {
     "name": "stderr",
     "output_type": "stream",
     "text": [
      "D:\\Anaconda3\\envs\\Nguyen\\lib\\site-packages\\scipy\\sparse\\compressed.py:746: SparseEfficiencyWarning: Changing the sparsity structure of a csc_matrix is expensive. lil_matrix is more efficient.\n",
      "  SparseEfficiencyWarning)\n"
     ]
    }
   ],
   "source": [
    "# import thư viện numpy\n",
    "import numpy as np\n",
    "# import thư viện matplotlib\n",
    "import matplotlib.pyplot as plt\n",
    "import scipy.sparse as sp\n",
    "\n",
    "\n",
    "# Tải dữ liệu data X và y đã được xử lý thành ma trận\n",
    "labels = np.load('D:/Document/Machine_Learning/CS3/label.npy') \n",
    "features = sp.load_npz('D:/Document/Machine_Learning/CS3/tfidf.npz')\n",
    "\n",
    "def add_bias(features, labels):\n",
    "    '''\n",
    "    features là ma trận N*X với N là số datapoint, X là số term trong dictionary\n",
    "    labels là ma trận N*1 với N là số datapoint\n",
    "    \n",
    "    Hàm trả về ma trận features(sau khi đã thêm 1 cột bias giá trị 1 cho tất cả các phần tử) và labels\n",
    "    '''\n",
    "    # Thêm cột giá trị bias cho dữ liệu\n",
    "    labels_final = sp.csr_matrix(labels, shape = (1, len(labels)))\n",
    "    matrix_ones = sp.csc_matrix((26709,1),dtype=np.float)\n",
    "    matrix_ones[:]=1\n",
    "    matrix_final_features= sp.csc_matrix(sp.hstack((features,matrix_ones)))\n",
    "    return matrix_final_features, labels_final\n",
    "\n",
    "# chia Train và test\n",
    "matrix_final_features, labels_final = add_bias(features, labels)\n",
    "X_Train = matrix_final_features[:20000]\n",
    "X_test = matrix_final_features[20000:]\n",
    "y_Train = labels_final.T[:20000]\n",
    "y_test = labels_final.T[20000:]"
   ]
  },
  {
   "cell_type": "code",
   "execution_count": 2,
   "metadata": {},
   "outputs": [
    {
     "name": "stdout",
     "output_type": "stream",
     "text": [
      "X_Train: <class 'scipy.sparse.csc.csc_matrix'> (20000, 28901)\n"
     ]
    }
   ],
   "source": [
    "print('X_Train:', type(X_Train), X_Train.shape)"
   ]
  },
  {
   "cell_type": "code",
   "execution_count": 3,
   "metadata": {},
   "outputs": [],
   "source": [
    "def sigmoid(z):\n",
    "    # hàm sigmoid\n",
    "    '''\n",
    "    z là model đầu ra Linear Regression\n",
    "    np.exp là e mũ\n",
    "    Hàm trả về sigmoid của z\n",
    "    \n",
    "    '''\n",
    "    return 1/(1+np.exp(-z))"
   ]
  },
  {
   "cell_type": "code",
   "execution_count": 4,
   "metadata": {},
   "outputs": [],
   "source": [
    "def Cost_Function(w, y, X):\n",
    "    '''\n",
    "    w là ma trận bộ tham số có shape bằng shape X\n",
    "    X là features\n",
    "    y là y labels\n",
    "    Hàm trả về cost tương ứng bộ tham số w\n",
    "    \n",
    "    '''\n",
    "    # tính giá trị đầu ra của hàm Linear Regression\n",
    "    s = X.dot(w).toarray()\n",
    "    # scale s về khoảng [0,1] dùng hàm sigmoid\n",
    "    # z là xác xuất điểm dữ liệu rơi vào lớp y\n",
    "    z = sigmoid(s)\n",
    "    y = y.toarray()\n",
    "    \n",
    "    cost = -np.sum((y*(np.log(z)) + (1-y)*np.log(1-z)))\n",
    "    \n",
    "    return cost"
   ]
  },
  {
   "cell_type": "code",
   "execution_count": 6,
   "metadata": {},
   "outputs": [],
   "source": [
    "def Derivative(w, y, X):\n",
    "    '''\n",
    "    W là ma trận bộ trọng số w: (28901, 1)  <class 'scipy.sparse.csc.csc_matrix'>\n",
    "    y là dữ liệu labels y: (1, 1) <class 'scipy.sparse.csc.csc_matrix'>\n",
    "    X là dữ liệu Train X: (28901, 1) <class 'scipy.sparse.csr.csr_matrix'>\n",
    "    \n",
    "    Hàm trả về giá trị đạo hàm cho từng feature\n",
    "    '''\n",
    "    # tính giá trị đầu ra của hàm Linear Regression\n",
    "    s = X.dot(w).toarray()\n",
    "    # scale s về khoảng [0,1] dùng hàm sigmoid\n",
    "    # z là xác xuất điểm dữ liệu rơi vào lớp y\n",
    "    z = sigmoid(s)\n",
    "    y = y.toarray()\n",
    "#     print('z',z.shape, type(z))\n",
    "#     print('y',y.shape, type(y))\n",
    "#     print('X',X.shape, type(X))\n",
    "    der = (z-y).T\n",
    "    \n",
    "    X = X.T\n",
    "#     print(X.shape, type(X))\n",
    "    der = sp.csr_matrix(der, shape = (1,der.shape[1]))\n",
    "    der = der.T\n",
    "#     print(der.shape, type(der))\n",
    "    \n",
    "    return X.dot(der)"
   ]
  },
  {
   "cell_type": "code",
   "execution_count": 19,
   "metadata": {},
   "outputs": [],
   "source": [
    "alpha = 0.001\n",
    "# Khởi tạo ma trận biến với giá trị khởi tạo tại mỗi phần tử là 0\n",
    "w = np.zeros((X_Train.shape[1], 1))\n",
    "w = sp.csc_matrix(w, shape = (len(w),1))\n",
    "# Khởi tạo learning rate"
   ]
  },
  {
   "cell_type": "code",
   "execution_count": 43,
   "metadata": {},
   "outputs": [
    {
     "name": "stdout",
     "output_type": "stream",
     "text": [
      "epoch =  0 cost =  176.1934862550946\n",
      "epoch =  500 cost =  175.8496954071773\n",
      "epoch =  1000 cost =  175.50732625156584\n",
      "epoch =  1500 cost =  175.16637008895972\n",
      "epoch =  2000 cost =  174.82681829182025\n",
      "epoch =  2500 cost =  174.4886623036007\n",
      "epoch =  3000 cost =  174.15189363798683\n",
      "epoch =  3500 cost =  173.81650387814665\n",
      "epoch =  4000 cost =  173.482484675991\n",
      "epoch =  4500 cost =  173.14982775144313\n",
      "epoch =  5000 cost =  172.8185248917181\n",
      "epoch =  5500 cost =  172.48856795061192\n",
      "epoch =  6000 cost =  172.15994884779954\n",
      "epoch =  6500 cost =  171.83265956814222\n",
      "epoch =  7000 cost =  171.50669216100403\n",
      "epoch =  7500 cost =  171.18203873957714\n",
      "epoch =  8000 cost =  170.85869148021595\n",
      "epoch =  8500 cost =  170.5366426217796\n",
      "epoch =  9000 cost =  170.21588446498362\n",
      "epoch =  9500 cost =  169.8964093717593\n"
     ]
    },
    {
     "data": {
      "image/png": "[encoded data removed]",
      "text/plain": [
       "<Figure size 432x288 with 1 Axes>"
      ]
     },
     "metadata": {
      "needs_background": "light"
     },
     "output_type": "display_data"
    }
   ],
   "source": [
    "# list chứa tất cả mse\n",
    "all_Cost = []\n",
    "\n",
    "# Khởi tạo số vòng lặp\n",
    "num = 10000\n",
    "# Huấn luyện\n",
    "for i in range(num):\n",
    "    # Tính cost với w hiện thời\n",
    "    err = Cost_Function(w, y_Train, X_Train)\n",
    "    all_Cost.append(err)\n",
    "    # Cập nhật w theo công thức gradient descent\n",
    "    der = Derivative(w, y_Train, X_Train)\n",
    "    w = w - alpha*der \n",
    "    \n",
    "    if i % 500 == 0:\n",
    "        # In ra cost tại vòng lặp thứ i\n",
    "        print(\"epoch = \", i, \"cost = \",Cost_Function(w, y_Train, X_Train))\n",
    "    \n",
    "   \n",
    "\n",
    "\n",
    "        \n",
    "# Vẽ đồ thị biễu diễn cost qua từng vòng lặp\n",
    "axis_x = list(range(num))\n",
    "axis_y = all_Cost\n",
    "plt.scatter(axis_x, axis_y)\n",
    "plt.show()"
   ]
  },
  {
   "cell_type": "code",
   "execution_count": 45,
   "metadata": {},
   "outputs": [],
   "source": [
    "sp.save_npz('D:/Document/Machine_Learning/CS3/w.npz', w)"
   ]
  },
  {
   "cell_type": "code",
   "execution_count": null,
   "metadata": {},
   "outputs": [],
   "source": []
  }
 ],
 "metadata": {
  "kernelspec": {
   "display_name": "Python 3",
   "language": "python",
   "name": "python3"
  },
  "language_info": {
   "codemirror_mode": {
    "name": "ipython",
    "version": 3
   },
   "file_extension": ".py",
   "mimetype": "text/x-python",
   "name": "python",
   "nbconvert_exporter": "python",
   "pygments_lexer": "ipython3",
   "version": "3.6.7"
  }
 },
 "nbformat": 4,
 "nbformat_minor": 2
}
